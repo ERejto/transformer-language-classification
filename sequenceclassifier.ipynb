{
 "metadata": {
  "language_info": {
   "codemirror_mode": {
    "name": "ipython",
    "version": 3
   },
   "file_extension": ".py",
   "mimetype": "text/x-python",
   "name": "python",
   "nbconvert_exporter": "python",
   "pygments_lexer": "ipython3",
   "version": "3.10.12-final"
  },
  "orig_nbformat": 2,
  "kernelspec": {
   "name": "e208_f23",
   "display_name": "E208_F23",
   "language": "python"
  }
 },
 "nbformat": 4,
 "nbformat_minor": 2,
 "cells": [
  {
   "cell_type": "code",
   "execution_count": 3,
   "metadata": {},
   "outputs": [
    {
     "output_type": "stream",
     "name": "stdout",
     "text": [
      "hi\n"
     ]
    }
   ],
   "source": [
    "## Authors: Raja Batra And Eli Rejto\n",
    "## October 19, 2023"
   ]
  },
  {
   "cell_type": "code",
   "execution_count": 6,
   "metadata": {},
   "outputs": [
    {
     "output_type": "stream",
     "name": "stdout",
     "text": [
      "Requirement already satisfied: torchtext in /Users/rajabatra/anaconda3/envs/E208_F23/lib/python3.10/site-packages (0.16.0)\n",
      "Requirement already satisfied: tqdm in /Users/rajabatra/anaconda3/envs/E208_F23/lib/python3.10/site-packages (from torchtext) (4.65.0)\n",
      "Requirement already satisfied: requests in /Users/rajabatra/anaconda3/envs/E208_F23/lib/python3.10/site-packages (from torchtext) (2.31.0)\n",
      "Requirement already satisfied: torch==2.1.0 in /Users/rajabatra/anaconda3/envs/E208_F23/lib/python3.10/site-packages (from torchtext) (2.1.0)\n",
      "Requirement already satisfied: numpy in /Users/rajabatra/anaconda3/envs/E208_F23/lib/python3.10/site-packages (from torchtext) (1.24.3)\n",
      "Requirement already satisfied: torchdata==0.7.0 in /Users/rajabatra/anaconda3/envs/E208_F23/lib/python3.10/site-packages (from torchtext) (0.7.0)\n",
      "Requirement already satisfied: filelock in /Users/rajabatra/anaconda3/envs/E208_F23/lib/python3.10/site-packages (from torch==2.1.0->torchtext) (3.9.0)\n",
      "Requirement already satisfied: typing-extensions in /Users/rajabatra/anaconda3/envs/E208_F23/lib/python3.10/site-packages (from torch==2.1.0->torchtext) (4.7.1)\n",
      "Requirement already satisfied: sympy in /Users/rajabatra/anaconda3/envs/E208_F23/lib/python3.10/site-packages (from torch==2.1.0->torchtext) (1.11.1)\n",
      "Requirement already satisfied: networkx in /Users/rajabatra/anaconda3/envs/E208_F23/lib/python3.10/site-packages (from torch==2.1.0->torchtext) (3.1)\n",
      "Requirement already satisfied: jinja2 in /Users/rajabatra/anaconda3/envs/E208_F23/lib/python3.10/site-packages (from torch==2.1.0->torchtext) (3.1.2)\n",
      "Requirement already satisfied: fsspec in /Users/rajabatra/anaconda3/envs/E208_F23/lib/python3.10/site-packages (from torch==2.1.0->torchtext) (2023.4.0)\n",
      "Requirement already satisfied: urllib3>=1.25 in /Users/rajabatra/anaconda3/envs/E208_F23/lib/python3.10/site-packages (from torchdata==0.7.0->torchtext) (1.26.16)\n",
      "Requirement already satisfied: charset-normalizer<4,>=2 in /Users/rajabatra/anaconda3/envs/E208_F23/lib/python3.10/site-packages (from requests->torchtext) (2.0.4)\n",
      "Requirement already satisfied: idna<4,>=2.5 in /Users/rajabatra/anaconda3/envs/E208_F23/lib/python3.10/site-packages (from requests->torchtext) (3.4)\n",
      "Requirement already satisfied: certifi>=2017.4.17 in /Users/rajabatra/anaconda3/envs/E208_F23/lib/python3.10/site-packages (from requests->torchtext) (2023.7.22)\n",
      "Requirement already satisfied: MarkupSafe>=2.0 in /Users/rajabatra/anaconda3/envs/E208_F23/lib/python3.10/site-packages (from jinja2->torch==2.1.0->torchtext) (2.1.1)\n",
      "Requirement already satisfied: mpmath>=0.19 in /Users/rajabatra/anaconda3/envs/E208_F23/lib/python3.10/site-packages (from sympy->torch==2.1.0->torchtext) (1.3.0)\n",
      "Note: you may need to restart the kernel to use updated packages.\n"
     ]
    }
   ],
   "source": [
    "pip install torchtext\n"
   ]
  },
  {
   "cell_type": "code",
   "execution_count": 8,
   "metadata": {},
   "outputs": [
    {
     "output_type": "stream",
     "name": "stdout",
     "text": [
      "Collecting package metadata (current_repodata.json): done\n",
      "Solving environment: failed with initial frozen solve. Retrying with flexible solve.\n",
      "Collecting package metadata (repodata.json): done\n",
      "Solving environment: failed with initial frozen solve. Retrying with flexible solve.\n",
      "\n",
      "PackagesNotFoundError: The following packages are not available from current channels:\n",
      "\n",
      "  - torchtect\n",
      "\n",
      "Current channels:\n",
      "\n",
      "  - https://repo.anaconda.com/pkgs/main/osx-64\n",
      "  - https://repo.anaconda.com/pkgs/main/noarch\n",
      "  - https://repo.anaconda.com/pkgs/r/osx-64\n",
      "  - https://repo.anaconda.com/pkgs/r/noarch\n",
      "\n",
      "To search for alternate channels that may provide the conda package you're\n",
      "looking for, navigate to\n",
      "\n",
      "    https://anaconda.org\n",
      "\n",
      "and use the search bar at the top of the page.\n",
      "\n",
      "\n",
      "\n",
      "Note: you may need to restart the kernel to use updated packages.\n"
     ]
    }
   ],
   "source": [
    "conda install torchtect"
   ]
  },
  {
   "cell_type": "code",
   "execution_count": 10,
   "metadata": {},
   "outputs": [],
   "source": [
    "import torch\n",
    "import numpy as np"
   ]
  },
  {
   "source": [
    "# Part 1: Basic System with fixed-length inputs"
   ],
   "cell_type": "markdown",
   "metadata": {}
  },
  {
   "source": [
    "### Convert text to lowercase and remove all punctuation except “.” so the data only contains alphabet characters, whitespace, and periods"
   ],
   "cell_type": "markdown",
   "metadata": {}
  },
  {
   "cell_type": "code",
   "execution_count": 3,
   "metadata": {},
   "outputs": [],
   "source": [
    "spanish_file_path = 'dataforbuildingmodel/somespanishtext'\n",
    "with open(spanish_file_path, 'r', encoding='latin-1') as file:\n",
    "    spanish_text = file.read().lower()  # Convert to lowercase\n",
    "    spanish_text = ''.join(char if char.isalpha() or char.isspace() or char == '.' else ' ' for char in spanish_text)"
   ]
  },
  {
   "cell_type": "code",
   "execution_count": 6,
   "metadata": {
    "tags": []
   },
   "outputs": [
    {
     "output_type": "stream",
     "name": "stdout",
     "text": [
      " la enciclopedia libre jorge hess de wikipedia \n la enciclopedia libre saltar a jorge hess de julio \n"
     ]
    }
   ],
   "source": [
    "print(spanish_text[0:100])"
   ]
  },
  {
   "cell_type": "code",
   "execution_count": 7,
   "metadata": {},
   "outputs": [],
   "source": [
    "english_file_path = 'dataforbuildingmodel/someenglishtext'\n",
    "with open(english_file_path, 'r', encoding='latin-1') as file:\n",
    "    english_text = file.read().lower()  # Convert to lowercase\n",
    "    english_text = ''.join(char if char.isalpha() or char.isspace() or char == '.' else ' ' for char in english_text)"
   ]
  },
  {
   "cell_type": "code",
   "execution_count": 9,
   "metadata": {},
   "outputs": [
    {
     "output_type": "stream",
     "name": "stdout",
     "text": [
      " \n   valkyria chronicles iii   \n \n senjå  no valkyria      unk  chronicles   japanese   æ  å  ã  ã  ã  ã  ã  ã  ã ªã      lit . valkyria of the battlefield       commonly referred to as valkyria chronicles iii outside japan   is a tactical role     playing video game developed by sega and media.vision for the playstation portable . released in january      in japan   it is the third game in the valkyria series . employing the same fusion of tactical and real     time gameplay as its predecessors\n"
     ]
    }
   ],
   "source": [
    "print(english_text[0:500])"
   ]
  },
  {
   "source": [
    "### Determine a set of unique characters and map all characters to integers"
   ],
   "cell_type": "markdown",
   "metadata": {}
  },
  {
   "cell_type": "code",
   "execution_count": 10,
   "metadata": {},
   "outputs": [],
   "source": [
    "unique_chars = sorted(set(english_text + spanish_text))"
   ]
  },
  {
   "cell_type": "code",
   "execution_count": 11,
   "metadata": {},
   "outputs": [
    {
     "output_type": "stream",
     "name": "stdout",
     "text": [
      "['\\n', ' ', '.', 'a', 'b', 'c', 'd', 'e', 'f', 'g', 'h', 'i', 'j', 'k', 'l', 'm', 'n', 'o', 'p', 'q', 'r', 's', 't', 'u', 'v', 'w', 'x', 'y', 'z', '\\xa0', 'ª', 'µ', 'á', 'â', 'ã', 'å', 'æ', 'î', 'ï']\n"
     ]
    }
   ],
   "source": [
    "print(unique_chars)"
   ]
  },
  {
   "source": [
    "### map characters to integers"
   ],
   "cell_type": "markdown",
   "metadata": {}
  },
  {
   "cell_type": "code",
   "execution_count": 14,
   "metadata": {},
   "outputs": [
    {
     "output_type": "stream",
     "name": "stdout",
     "text": [
      "{'\\n': 0, ' ': 1, '.': 2, 'a': 3, 'b': 4, 'c': 5, 'd': 6, 'e': 7, 'f': 8, 'g': 9, 'h': 10, 'i': 11, 'j': 12, 'k': 13, 'l': 14, 'm': 15, 'n': 16, 'o': 17, 'p': 18, 'q': 19, 'r': 20, 's': 21, 't': 22, 'u': 23, 'v': 24, 'w': 25, 'x': 26, 'y': 27, 'z': 28, '\\xa0': 29, 'ª': 30, 'µ': 31, 'á': 32, 'â': 33, 'ã': 34, 'å': 35, 'æ': 36, 'î': 37, 'ï': 38}\n"
     ]
    }
   ],
   "source": [
    "\n",
    "char_to_int = {char: idx for idx, char in enumerate(unique_chars)}\n",
    "int_to_char = {idx: char for char, idx in char_to_int.items()}\n",
    "print(char_to_int)\n",
    "def text_to_int_sequence(text, char_to_int):\n",
    "    return [char_to_int[char] for char in text]"
   ]
  },
  {
   "cell_type": "code",
   "execution_count": null,
   "metadata": {},
   "outputs": [],
   "source": []
  }
 ]
}