{
  "cells": [
    {
      "cell_type": "code",
      "execution_count": null,
      "metadata": {
        "id": "VjNE8IUeR1ED"
      },
      "outputs": [],
      "source": [
        "## Authors: Raja Batra And Eli Rejto\n",
        "## October 19, 2023"
      ]
    },
    {
      "cell_type": "code",
      "source": [
        "from google.colab import drive\n",
        "drive.mount('/content/drive')"
      ],
      "metadata": {
        "id": "twt7ZviGSStB",
        "outputId": "9d77aa24-4ca6-4e45-a998-b1656926afb4",
        "colab": {
          "base_uri": "https://localhost:8080/"
        }
      },
      "execution_count": null,
      "outputs": [
        {
          "output_type": "stream",
          "name": "stdout",
          "text": [
            "Drive already mounted at /content/drive; to attempt to forcibly remount, call drive.mount(\"/content/drive\", force_remount=True).\n"
          ]
        }
      ]
    },
    {
      "cell_type": "code",
      "execution_count": null,
      "metadata": {
        "id": "QAdaZHbOR1EF"
      },
      "outputs": [],
      "source": [
        "import torch\n",
        "import torch.nn as nn\n",
        "from torch.nn.utils.rnn import pad_sequence\n",
        "from torch.utils.data import Dataset, DataLoader, TensorDataset\n",
        "import numpy as np\n",
        "import pandas as pd\n",
        "import re\n",
        "from sklearn.model_selection import train_test_split\n",
        "import matplotlib.pyplot as plt"
      ]
    },
    {
      "cell_type": "markdown",
      "metadata": {
        "id": "lP1eQOynR1EH"
      },
      "source": [
        "# Part 1: Basic System with fixed-length inputs"
      ]
    },
    {
      "cell_type": "markdown",
      "metadata": {
        "id": "ELdsdGRER1EI"
      },
      "source": [
        "### Convert text to lowercase and remove all punctuation except “.” so the data only contains alphabet characters, whitespace, and periods"
      ]
    },
    {
      "cell_type": "code",
      "execution_count": null,
      "metadata": {
        "id": "jyiBMWpOR1EJ"
      },
      "outputs": [],
      "source": [
        "def englishsplitintosentences(text):\n",
        "    sentences = re.split(r'=', text)\n",
        "    return sentences\n",
        "\n",
        "def spanishsplitintosentences(text):\n",
        "    sentences = re.findall(r'\\*(.*?)\\#', text)\n",
        "    return sentences\n",
        "\n",
        "def preprocesssentence(sentence):\n",
        "    sentence = sentence.lower()  # Convert to lowercase\n",
        "    sentence = ''.join(char if char.isalpha() or char.isspace() or char == '.' else ' ' for char in sentence)  # Remove punctuation\n",
        "    return sentence"
      ]
    },
    {
      "cell_type": "code",
      "execution_count": null,
      "metadata": {
        "id": "megIsV8nR1EK"
      },
      "outputs": [],
      "source": [
        "# Apply preprocessing to all English sentences\n",
        "english_file_path = '/content/drive/MyDrive/dataforbuildingmodel/someenglishtext'\n",
        "with open(english_file_path, 'r', encoding='latin-1') as file:\n",
        "    english_text = file.read()\n",
        "\n",
        "english_sentences = englishsplitintosentences(english_text)\n",
        "\n",
        "\n",
        "english_sentences = [preprocesssentence(sentence) for sentence in english_sentences]\n"
      ]
    },
    {
      "cell_type": "code",
      "execution_count": null,
      "metadata": {
        "tags": [],
        "id": "hs_QmbTJR1EK",
        "outputId": "1a75d3ac-9fc0-4b26-f038-9414d0ae1b34",
        "colab": {
          "base_uri": "https://localhost:8080/"
        }
      },
      "outputs": [
        {
          "output_type": "stream",
          "name": "stdout",
          "text": [
            "[' \\n ', ' valkyria chronicles iii ', ' \\n \\n senjå  no valkyria      unk  chronicles   japanese   æ  å\\xa0 ã  ã  ã  ã  ã  ã  ã ªã      lit . valkyria of the battlefield       commonly referred to as valkyria chronicles iii outside japan   is a tactical role     playing video game developed by sega and media.vision for the playstation portable . released in january      in japan   it is the third game in the valkyria series . employing the same fusion of tactical and real     time gameplay as its predecessors   the story runs parallel to the first game and follows the   nameless     a penal military unit serving the nation of gallia during the second europan war who perform secret black operations and are pitted against the imperial unit    unk  raven   . \\n the game began development in        carrying over a large portion of the work done on valkyria chronicles ii . while it retained the standard features of the series   it also underwent multiple adjustments   such as making the game more forgiving for series newcomers . character designer  unk  honjou and composer hitoshi sakimoto both returned from previous entries   along with valkyria chronicles ii director takeshi ozawa . a large team of writers handled the script . the game  s opening theme was sung by may  n . \\n it met with positive sales in japan   and was praised by both japanese and western critics . after release   it received downloadable content   along with an expanded edition in november of that year . it was also adapted into manga and an original video animation series . due to low sales of valkyria chronicles ii   valkyria chronicles iii was not localized   but a fan translation compatible with the game  s expanded edition was released in      . media.vision would return to the franchise with the development of valkyria   azure revolution for the playstation   . \\n \\n ']\n"
          ]
        }
      ],
      "source": [
        "print(english_sentences[0:3])"
      ]
    },
    {
      "cell_type": "code",
      "execution_count": null,
      "metadata": {
        "id": "HH1YouAnR1EL"
      },
      "outputs": [],
      "source": [
        "# Apply preprocessing to all Spanish sentences\n",
        "spanish_file_path = '/content/drive/MyDrive/dataforbuildingmodel/somespanishtext'\n",
        "with open(spanish_file_path, 'r', encoding='latin-1') as file:\n",
        "    spanish_text = file.read()\n",
        "spanish_sentences = spanishsplitintosentences(spanish_text)\n",
        "\n",
        "\n",
        "spanish_sentences = [preprocesssentence(sentence) for sentence in spanish_sentences]\n",
        "\n"
      ]
    },
    {
      "cell_type": "code",
      "execution_count": null,
      "metadata": {
        "id": "WU7h3FFQR1EM"
      },
      "outputs": [],
      "source": [
        "processedspanishtext = ' '.join(spanish_sentences)\n",
        "\n",
        "processedenglishtext = ' '.join(english_sentences)"
      ]
    },
    {
      "cell_type": "markdown",
      "metadata": {
        "id": "Gnl-lOqYR1EN"
      },
      "source": [
        "### Determine a set of unique characters and map all characters to integers"
      ]
    },
    {
      "cell_type": "code",
      "execution_count": null,
      "metadata": {
        "id": "vMG5zw52R1EN"
      },
      "outputs": [],
      "source": [
        "unique_chars = sorted(set(processedenglishtext + processedspanishtext))"
      ]
    },
    {
      "cell_type": "code",
      "execution_count": null,
      "metadata": {
        "tags": [],
        "id": "9uuKp9z1R1EO",
        "outputId": "b9a90a70-2fc3-4eff-9c55-a6ee0ae46fe2",
        "colab": {
          "base_uri": "https://localhost:8080/"
        }
      },
      "outputs": [
        {
          "output_type": "stream",
          "name": "stdout",
          "text": [
            "['\\n', ' ', '.', 'a', 'b', 'c', 'd', 'e', 'f', 'g', 'h', 'i', 'j', 'k', 'l', 'm', 'n', 'o', 'p', 'q', 'r', 's', 't', 'u', 'v', 'w', 'x', 'y', 'z', '\\xa0', 'ª', 'µ', 'á', 'â', 'ã', 'å', 'æ', 'î', 'ï']\n"
          ]
        }
      ],
      "source": [
        "print(unique_chars)"
      ]
    },
    {
      "cell_type": "markdown",
      "metadata": {
        "id": "rXF5IFkBR1EO"
      },
      "source": [
        "### map characters to integers"
      ]
    },
    {
      "cell_type": "code",
      "execution_count": null,
      "metadata": {
        "tags": [],
        "id": "PfBleOGgR1EO"
      },
      "outputs": [],
      "source": [
        "chardict = {char: idx for idx, char in enumerate(unique_chars)}\n",
        "\n",
        "\n",
        "def texttoint(text, chardict):\n",
        "    mappedtext = []\n",
        "    for char in text:\n",
        "        mappedtext.append(chardict[char])\n",
        "    return mappedtext\n",
        "\n",
        "mappedspanishtext = texttoint(processedspanishtext, chardict)\n",
        "mappedspanishlabels = [1] * len(mappedspanishtext)\n",
        "mappedenglishtext = texttoint(processedenglishtext, chardict)\n",
        "\n",
        "mappedenlishlabels = [0] * len(mappedenglishtext)\n"
      ]
    },
    {
      "cell_type": "code",
      "execution_count": null,
      "metadata": {
        "id": "kM_zRar8R1EP",
        "outputId": "40cf65a1-c0d6-4b71-a7a3-3714b1932e0a",
        "colab": {
          "base_uri": "https://localhost:8080/"
        }
      },
      "outputs": [
        {
          "output_type": "stream",
          "name": "stdout",
          "text": [
            "[1, 0, 1, 1, 1, 24, 3, 14, 13, 27, 20, 11, 3, 1, 5, 10, 20, 17, 16, 11, 5, 14, 7, 21, 1, 11, 11, 11, 1, 1, 1, 0, 1, 0, 1, 21, 7, 16, 12, 35, 1, 1, 16, 17, 1, 24, 3, 14, 13, 27, 20, 11, 3, 1, 1, 1, 1, 1, 1, 23, 16, 13, 1, 1, 5, 10, 20, 17, 16, 11, 5, 14, 7, 21, 1, 1, 1, 12, 3, 18, 3, 16, 7, 21, 7, 1, 1, 1, 36, 1, 1, 35, 29, 1, 34, 1, 1, 34, 1, 1]\n",
            "[34, 1, 1, 34, 1, 1, 34, 1, 1, 34, 1, 1, 34, 1, 30, 34, 1, 1, 1, 1, 1, 1, 14, 11, 22, 1, 2, 1, 24, 3, 14, 13, 27, 20, 11, 3, 1, 17, 8, 1, 22, 10, 7, 1, 4, 3, 22, 22, 14, 7, 8, 11, 7, 14, 6, 1, 1, 1, 1, 1, 1, 1, 5, 17, 15, 15, 17, 16, 14, 27, 1, 20, 7, 8, 7, 20, 20, 7, 6, 1, 22, 17, 1, 3, 21, 1, 24, 3, 14, 13, 27, 20, 11, 3, 1, 5, 10, 20, 17, 16]\n"
          ]
        }
      ],
      "source": [
        "print(mappedenglishtext[0:100])\n",
        "print(mappedenglishtext[100:200])"
      ]
    },
    {
      "cell_type": "markdown",
      "metadata": {
        "id": "qGWzdkqYR1EP"
      },
      "source": [
        "### splitting into training and validation data and making chunks within data"
      ]
    },
    {
      "cell_type": "code",
      "execution_count": null,
      "metadata": {
        "id": "WS6jV_VMR1EQ"
      },
      "outputs": [],
      "source": [
        "chunk_length = 100\n",
        "trainenglishchunk = [mappedenglishtext[i:i+chunk_length] for i in range(0, len(mappedenglishtext), chunk_length)]\n",
        "trainingenglishlabels = [0] * len(trainenglishchunk)\n",
        "trainspanishchunk = [mappedspanishtext[i:i+chunk_length] for i in range(0, len(mappedspanishtext), chunk_length)]\n",
        "trainingspanishlabels = [1] * len(trainspanishchunk)\n",
        "\n"
      ]
    },
    {
      "cell_type": "code",
      "execution_count": null,
      "metadata": {
        "id": "AywpmHh4R1EQ",
        "outputId": "564e4ed5-d76e-4390-cb2a-83ba40006671",
        "colab": {
          "base_uri": "https://localhost:8080/"
        }
      },
      "outputs": [
        {
          "output_type": "stream",
          "name": "stdout",
          "text": [
            "                                                  chunk  language\n",
            "852   [1, 22, 17, 1, 14, 7, 3, 18, 8, 20, 17, 9, 1, ...         0\n",
            "368   [7, 16, 5, 7, 1, 22, 17, 1, 17, 20, 6, 7, 20, ...         0\n",
            "21    [11, 5, 1, 4, 17, 17, 13, 1, 1, 1, 1, 1, 14, 1...         0\n",
            "1979  [11, 14, 6, 11, 16, 9, 1, 2, 1, 5, 17, 15, 15,...         0\n",
            "3668  [1, 26, 11, 11, 11, 14, 23, 11, 21, 1, 26, 11,...         1\n"
          ]
        }
      ],
      "source": [
        "df1 = pd.DataFrame({'chunk': trainenglishchunk, 'language': 0})\n",
        "\n",
        "df2 = pd.DataFrame({'chunk': trainspanishchunk, 'language': 1})\n",
        "\n",
        "# Concatenate the two DataFrames\n",
        "combined_df = pd.concat([df1, df2], ignore_index=True)\n",
        "\n",
        "\n",
        "\n",
        "##drops chunk if it is not 100\n",
        "combined_df['chunk'] = combined_df['chunk'].apply(lambda x: x if len(x) == chunk_length else None)\n",
        "combined_df = combined_df.dropna().reset_index(drop=True)\n",
        "\n",
        "\n",
        "#Split Training and Validation Data\n",
        "Training_Fraction = 0.8\n",
        "\n",
        "validation_split = 0.2\n",
        "\n",
        "# Split the DataFrame into training and validation sets\n",
        "training_df, valid_df = train_test_split(combined_df, test_size=validation_split)\n",
        "print(training_df.head())\n",
        "\n",
        "batch_size = 32\n"
      ]
    },
    {
      "cell_type": "code",
      "source": [
        "print(df2.head())\n",
        "print(combined_df.iloc[0])"
      ],
      "metadata": {
        "id": "LOAqbmj7VJyb",
        "colab": {
          "base_uri": "https://localhost:8080/"
        },
        "outputId": "d9112067-42f3-4e6c-a1d9-2d5502481295"
      },
      "execution_count": null,
      "outputs": [
        {
          "output_type": "stream",
          "name": "stdout",
          "text": [
            "                                               chunk  language\n",
            "0  [14, 3, 1, 7, 16, 5, 11, 5, 14, 17, 18, 7, 6, ...         1\n",
            "1  [23, 16, 1, 27, 1, 5, 17, 8, 23, 16, 6, 3, 6, ...         1\n",
            "2  [21, 18, 7, 20, 3, 16, 22, 17, 1, 19, 23, 7, 1...         1\n",
            "3  [17, 5, 11, 6, 17, 21, 1, 14, 11, 4, 20, 17, 2...         1\n",
            "4  [28, 11, 14, 38, 1, 1, 9, 27, 11, 1, 7, 14, 1,...         1\n",
            "chunk       [1, 0, 1, 1, 1, 24, 3, 14, 13, 27, 20, 11, 3, ...\n",
            "language                                                    0\n",
            "Name: 0, dtype: object\n"
          ]
        }
      ]
    },
    {
      "cell_type": "code",
      "source": [
        "# convert training data into PyTorch tensors\n",
        "X = torch.tensor(training_df['chunk'], dtype=torch.int64)\n",
        "y = torch.tensor(training_df['language'], dtype=torch.int64).reshape(-1, 1)\n",
        "\n",
        "# create DataLoader, then take one batch\n",
        "trainloader = DataLoader(list(zip(X,y)), shuffle=True, batch_size=2)\n",
        "\n"
      ],
      "metadata": {
        "id": "Vc5c4zk-XPeD"
      },
      "execution_count": null,
      "outputs": []
    },
    {
      "cell_type": "code",
      "source": [
        "# convert validation data into PyTorch tensors\n",
        "Xval = torch.tensor(training_df['chunk'], dtype=torch.int64)\n",
        "yval = torch.tensor(training_df['language'], dtype=torch.int64).reshape(-1, 1)\n",
        "\n",
        "# create DataLoader, then take one batch\n",
        "valloader = DataLoader(list(zip(Xval,yval)), shuffle=True, batch_size=2)"
      ],
      "metadata": {
        "id": "zkJMlLPDMgtD"
      },
      "execution_count": null,
      "outputs": []
    },
    {
      "cell_type": "code",
      "execution_count": null,
      "metadata": {
        "id": "YDS6jXS4R1EQ"
      },
      "outputs": [],
      "source": [
        "#train_loader = DataLoader(training_df, batch_size=batch_size, shuffle=True)\n",
        "#valid_loader = DataLoader(valid_df, batch_size=batch_size, shuffle=False)"
      ]
    },
    {
      "cell_type": "markdown",
      "metadata": {
        "id": "IuBDNG0lR1ER"
      },
      "source": [
        "## Train 1 Layer Model"
      ]
    },
    {
      "cell_type": "code",
      "execution_count": null,
      "metadata": {
        "id": "qkR-WpGuR1ER"
      },
      "outputs": [],
      "source": [
        "#loosely based on https://www.kaggle.com/code/mehmetlaudatekman/lstm-text-classification-pytorch\n",
        "class LanguageClassificationModel(nn.Module):\n",
        "    def __init__(self, input_size, embeddingdim, hidden_size, num_classes):\n",
        "        super(LanguageClassificationModel, self).__init__()\n",
        "        self.embedding = nn.Embedding(input_size, embeddingdim)\n",
        "        self.lstm = nn.LSTM(input_size, hidden_size, batch_first=True)\n",
        "        self.linear = nn.Linear(hidden_size, num_classes)\n",
        "\n",
        "    def forward(self, x):\n",
        "        #x: (batch_size, sequence_length)\n",
        "        # 2x 100\n",
        "        embedded = self.embedding(x)\n",
        "        #output batch-size x seq_length x embedding_dimension\n",
        "        #2 x 100 x 50\n",
        "        lstm_out, _ = self.lstm(embedded)\n",
        "        #Output: seq_length x batch_size x hidden_size\n",
        "        #last_hidden_state: batch_size, hidden_size\n",
        "        # 100 x 2 x 32 ,\n",
        "        output = self.linear(lstm_out[:,-1,:])\n",
        "        return output"
      ]
    },
    {
      "cell_type": "code",
      "execution_count": null,
      "metadata": {
        "id": "C1_wUTZSR1ER"
      },
      "outputs": [],
      "source": [
        "# hyperparameters for parameter\n",
        "input_size = len(chardict)\n",
        "hidden_size = 20\n",
        "num_classes = 2  # English and Spanish\n",
        "learning_rate = 0.001\n",
        "embedding_dim = 25\n",
        "num_epochs = 10\n",
        "\n",
        "\n"
      ]
    },
    {
      "cell_type": "code",
      "source": [
        "#Lets print a representation of our model to see what we have initialized it to\n",
        "print(model)"
      ],
      "metadata": {
        "id": "BfVTJgBJXzZv",
        "colab": {
          "base_uri": "https://localhost:8080/"
        },
        "outputId": "9d0c5c8b-a82f-4b7e-dd47-237f0853309c"
      },
      "execution_count": null,
      "outputs": [
        {
          "output_type": "stream",
          "name": "stdout",
          "text": [
            "LanguageClassificationModel(\n",
            "  (embedding): Embedding(39, 25)\n",
            "  (lstm): LSTM(39, 20, batch_first=True)\n",
            "  (linear): Linear(in_features=20, out_features=2, bias=True)\n",
            ")\n"
          ]
        }
      ]
    },
    {
      "cell_type": "code",
      "execution_count": 193,
      "metadata": {
        "id": "xsmj_vZ1R1ET"
      },
      "outputs": [],
      "source": [
        "def train_model(num_epochs,learning_rate,trainloader,valloader,hidden_size):\n",
        "    model = LanguageClassificationModel(input_size, embedding_dim, hidden_size, num_classes)\n",
        "    criterion = nn.CrossEntropyLoss()\n",
        "    optimizer = torch.optim.SGD(model.parameters(), lr=learning_rate)\n",
        "    train_losses = []\n",
        "    val_losses = []\n",
        "    val_accuracies = []\n",
        "    for epoch in range(num_epochs):\n",
        "        model.train()\n",
        "\n",
        "        running_loss = 0.0\n",
        "        for batch_x, batch_y in trainloader:\n",
        "            optimizer.zero_grad()\n",
        "\n",
        "            outputs = model(batch_x)\n",
        "            #print(outputs)\n",
        "            batch_y = batch_y.view(-1)\n",
        "            loss = criterion(outputs, batch_y)\n",
        "            loss.backward()\n",
        "            optimizer.step()\n",
        "            running_loss += loss.item()\n",
        "\n",
        "        train_loss = running_loss / len(trainloader)\n",
        "        train_losses.append(train_loss)\n",
        "\n",
        "\n",
        "        # Validation\n",
        "        model.eval()\n",
        "        val_loss = 0.0\n",
        "        correct = 0\n",
        "        total = 0\n",
        "        with torch.no_grad():\n",
        "            for batch_x, batch_y in valloader:\n",
        "\n",
        "                outputs = model(batch_x)\n",
        "                batch_y = batch_y.view(-1)\n",
        "                loss = criterion(outputs, batch_y)\n",
        "                val_loss += loss.item()\n",
        "                _, predicted = torch.max(outputs, 1)\n",
        "                total += batch_y.size(0)\n",
        "                correct += (predicted == batch_y).sum().item()\n",
        "        val_loss /= len(valloader)\n",
        "        val_losses.append(val_loss)\n",
        "        val_accuracy = 100*correct/total\n",
        "        val_accuracies.append(val_accuracy)\n",
        "\n",
        "        # Print the training and validation metrics for the current epoch\n",
        "        print(f'Epoch [{epoch + 1}/{num_epochs}] - '\n",
        "              f'Train Loss: {train_loss:.4f} - '\n",
        "              f'Validation Loss: {val_loss:.4f} - '\n",
        "              f'Validation Accuracy: {val_accuracy:.2f}%')\n",
        "    print('Finished Training')\n",
        "    return (train_losses, val_losses,val_accuracies)\n",
        "\n",
        "\n",
        "\n",
        "\n",
        "\n"
      ]
    },
    {
      "cell_type": "code",
      "source": [
        "def plot_losses(losses):\n",
        "    train_losses,val_losses,val_accuracies = losses\n",
        "    epochs = range(1, len(train_losses) + 1)\n",
        "\n",
        "    # Plot the training loss curve\n",
        "    plt.plot(epochs, train_losses, label='Training Loss', marker='o', linestyle='-', color='b')\n",
        "\n",
        "    # Plot the validation loss curve\n",
        "    plt.plot(epochs, val_losses, label='Validation Loss', marker='o', linestyle='-', color='r')\n",
        "\n",
        "    # Label the axes and add a legend\n",
        "    plt.xlabel('Epochs')\n",
        "    plt.ylabel('Loss')\n",
        "    plt.title('Training & Validation Loss Curves')\n",
        "    plt.legend()\n",
        "\n",
        "    # Show the plot\n",
        "    plt.show()"
      ],
      "metadata": {
        "id": "XQcNIg76sBiG"
      },
      "execution_count": 192,
      "outputs": []
    },
    {
      "cell_type": "code",
      "source": [
        "#Experiment 1 average epochs, lr and hiddensize\n",
        "num_epochs = 25\n",
        "lr = 0.01\n",
        "hiddensize = 10\n",
        "\n",
        "\n",
        "losses = train_model(num_epochs,lr,trainloader,valloader,hiddensize)\n",
        "plot_losses(losses)"
      ],
      "metadata": {
        "colab": {
          "base_uri": "https://localhost:8080/",
          "height": 914
        },
        "id": "S90PnxI-mhoA",
        "outputId": "03d1b610-7d87-45ca-a24a-b21b55e6164d"
      },
      "execution_count": null,
      "outputs": [
        {
          "output_type": "stream",
          "name": "stdout",
          "text": [
            "Epoch [1/25] - Train Loss: 0.4978 - Validation Loss: 0.4841 - Validation Accuracy: 80.09%\n",
            "Epoch [2/25] - Train Loss: 0.4767 - Validation Loss: 0.4620 - Validation Accuracy: 80.09%\n",
            "Epoch [3/25] - Train Loss: 0.4193 - Validation Loss: 0.4635 - Validation Accuracy: 80.20%\n",
            "Epoch [4/25] - Train Loss: 0.3939 - Validation Loss: 0.2498 - Validation Accuracy: 90.18%\n",
            "Epoch [5/25] - Train Loss: 0.3656 - Validation Loss: 0.4804 - Validation Accuracy: 80.09%\n",
            "Epoch [6/25] - Train Loss: 0.4674 - Validation Loss: 0.4531 - Validation Accuracy: 80.14%\n",
            "Epoch [7/25] - Train Loss: 0.4247 - Validation Loss: 0.3455 - Validation Accuracy: 83.73%\n",
            "Epoch [8/25] - Train Loss: 0.2109 - Validation Loss: 0.1741 - Validation Accuracy: 94.55%\n",
            "Epoch [9/25] - Train Loss: 0.3310 - Validation Loss: 0.4758 - Validation Accuracy: 80.09%\n",
            "Epoch [10/25] - Train Loss: 0.3190 - Validation Loss: 0.1603 - Validation Accuracy: 95.22%\n",
            "Epoch [11/25] - Train Loss: 0.1479 - Validation Loss: 0.1173 - Validation Accuracy: 96.72%\n",
            "Epoch [12/25] - Train Loss: 0.1250 - Validation Loss: 0.1188 - Validation Accuracy: 96.16%\n",
            "Epoch [13/25] - Train Loss: 0.1167 - Validation Loss: 0.1059 - Validation Accuracy: 97.25%\n",
            "Epoch [14/25] - Train Loss: 0.1035 - Validation Loss: 0.0859 - Validation Accuracy: 97.41%\n",
            "Epoch [15/25] - Train Loss: 0.0958 - Validation Loss: 0.0795 - Validation Accuracy: 97.64%\n",
            "Epoch [16/25] - Train Loss: 0.0902 - Validation Loss: 0.1189 - Validation Accuracy: 95.77%\n",
            "Epoch [17/25] - Train Loss: 0.0859 - Validation Loss: 0.0733 - Validation Accuracy: 98.25%\n",
            "Epoch [18/25] - Train Loss: 0.0837 - Validation Loss: 0.0517 - Validation Accuracy: 98.64%\n",
            "Epoch [19/25] - Train Loss: 0.0634 - Validation Loss: 0.1571 - Validation Accuracy: 96.25%\n",
            "Epoch [20/25] - Train Loss: 0.0620 - Validation Loss: 0.0455 - Validation Accuracy: 99.03%\n",
            "Epoch [21/25] - Train Loss: 0.0590 - Validation Loss: 0.0448 - Validation Accuracy: 99.08%\n",
            "Epoch [22/25] - Train Loss: 0.0446 - Validation Loss: 0.0309 - Validation Accuracy: 99.17%\n",
            "Epoch [23/25] - Train Loss: 0.0409 - Validation Loss: 0.0270 - Validation Accuracy: 99.39%\n",
            "Epoch [24/25] - Train Loss: 0.0358 - Validation Loss: 0.0231 - Validation Accuracy: 99.56%\n",
            "Epoch [25/25] - Train Loss: 0.0278 - Validation Loss: 0.3777 - Validation Accuracy: 90.93%\n",
            "Finished Training\n"
          ]
        },
        {
          "output_type": "display_data",
          "data": {
            "text/plain": [
              "<Figure size 640x480 with 1 Axes>"
            ],
            "image/png": "[encoded data removed]"
          },
          "metadata": {}
        }
      ]
    },
    {
      "cell_type": "code",
      "source": [
        "#Experiment 2 High epochs, average lr and hiddensize\n",
        "num_epochs = 50\n",
        "lr = 0.01\n",
        "hiddensize = 10\n",
        "\n",
        "\n",
        "losses = train_model(num_epochs,lr,trainloader,valloader,hiddensize)\n",
        "plot_losses(losses)"
      ],
      "metadata": {
        "colab": {
          "base_uri": "https://localhost:8080/",
          "height": 1000
        },
        "id": "BLsReqNEuo9Q",
        "outputId": "c637d762-9551-4f35-d345-fe2788cca834"
      },
      "execution_count": null,
      "outputs": [
        {
          "output_type": "stream",
          "name": "stdout",
          "text": [
            "Epoch [1/50] - Train Loss: 0.5059 - Validation Loss: 0.4856 - Validation Accuracy: 80.09%\n",
            "Epoch [2/50] - Train Loss: 0.4827 - Validation Loss: 0.4770 - Validation Accuracy: 80.09%\n",
            "Epoch [3/50] - Train Loss: 0.4731 - Validation Loss: 0.4607 - Validation Accuracy: 80.09%\n",
            "Epoch [4/50] - Train Loss: 0.4468 - Validation Loss: 0.4720 - Validation Accuracy: 80.09%\n",
            "Epoch [5/50] - Train Loss: 0.4579 - Validation Loss: 0.4317 - Validation Accuracy: 80.12%\n",
            "Epoch [6/50] - Train Loss: 0.4155 - Validation Loss: 0.4524 - Validation Accuracy: 80.39%\n",
            "Epoch [7/50] - Train Loss: 0.4134 - Validation Loss: 0.2300 - Validation Accuracy: 90.63%\n",
            "Epoch [8/50] - Train Loss: 0.3684 - Validation Loss: 0.4547 - Validation Accuracy: 80.14%\n",
            "Epoch [9/50] - Train Loss: 0.3450 - Validation Loss: 0.1333 - Validation Accuracy: 97.02%\n",
            "Epoch [10/50] - Train Loss: 0.0907 - Validation Loss: 0.0412 - Validation Accuracy: 99.30%\n",
            "Epoch [11/50] - Train Loss: 0.0520 - Validation Loss: 0.0270 - Validation Accuracy: 99.47%\n",
            "Epoch [12/50] - Train Loss: 0.1120 - Validation Loss: 0.7793 - Validation Accuracy: 80.09%\n",
            "Epoch [13/50] - Train Loss: 0.4807 - Validation Loss: 0.4506 - Validation Accuracy: 80.03%\n",
            "Epoch [14/50] - Train Loss: 0.4289 - Validation Loss: 0.3712 - Validation Accuracy: 83.26%\n",
            "Epoch [15/50] - Train Loss: 0.3083 - Validation Loss: 0.1631 - Validation Accuracy: 94.72%\n",
            "Epoch [16/50] - Train Loss: 0.3721 - Validation Loss: 0.2378 - Validation Accuracy: 87.07%\n",
            "Epoch [17/50] - Train Loss: 0.1699 - Validation Loss: 0.1114 - Validation Accuracy: 96.72%\n",
            "Epoch [18/50] - Train Loss: 0.2703 - Validation Loss: 0.1588 - Validation Accuracy: 92.85%\n",
            "Epoch [19/50] - Train Loss: 0.0880 - Validation Loss: 0.0532 - Validation Accuracy: 98.53%\n",
            "Epoch [20/50] - Train Loss: 0.0489 - Validation Loss: 0.0457 - Validation Accuracy: 98.89%\n",
            "Epoch [21/50] - Train Loss: 0.0373 - Validation Loss: 0.0325 - Validation Accuracy: 99.14%\n",
            "Epoch [22/50] - Train Loss: 0.0310 - Validation Loss: 0.0264 - Validation Accuracy: 99.33%\n",
            "Epoch [23/50] - Train Loss: 0.0267 - Validation Loss: 0.0192 - Validation Accuracy: 99.61%\n",
            "Epoch [24/50] - Train Loss: 0.0203 - Validation Loss: 0.0162 - Validation Accuracy: 99.58%\n",
            "Epoch [25/50] - Train Loss: 0.0232 - Validation Loss: 0.0214 - Validation Accuracy: 99.44%\n",
            "Epoch [26/50] - Train Loss: 0.0183 - Validation Loss: 0.0305 - Validation Accuracy: 99.17%\n",
            "Epoch [27/50] - Train Loss: 0.0214 - Validation Loss: 0.0129 - Validation Accuracy: 99.72%\n",
            "Epoch [28/50] - Train Loss: 0.0127 - Validation Loss: 0.0232 - Validation Accuracy: 99.36%\n",
            "Epoch [29/50] - Train Loss: 0.0110 - Validation Loss: 0.0117 - Validation Accuracy: 99.69%\n",
            "Epoch [30/50] - Train Loss: 0.0118 - Validation Loss: 0.0107 - Validation Accuracy: 99.81%\n",
            "Epoch [31/50] - Train Loss: 0.0099 - Validation Loss: 0.0084 - Validation Accuracy: 99.81%\n",
            "Epoch [32/50] - Train Loss: 0.0103 - Validation Loss: 0.0143 - Validation Accuracy: 99.64%\n",
            "Epoch [33/50] - Train Loss: 0.0106 - Validation Loss: 0.0071 - Validation Accuracy: 99.86%\n",
            "Epoch [34/50] - Train Loss: 0.0094 - Validation Loss: 0.0073 - Validation Accuracy: 99.86%\n",
            "Epoch [35/50] - Train Loss: 0.0079 - Validation Loss: 0.0079 - Validation Accuracy: 99.89%\n",
            "Epoch [36/50] - Train Loss: 0.0077 - Validation Loss: 0.0066 - Validation Accuracy: 99.89%\n",
            "Epoch [37/50] - Train Loss: 0.0069 - Validation Loss: 0.0065 - Validation Accuracy: 99.89%\n",
            "Epoch [38/50] - Train Loss: 0.0061 - Validation Loss: 0.0055 - Validation Accuracy: 99.89%\n",
            "Epoch [39/50] - Train Loss: 0.0063 - Validation Loss: 0.0057 - Validation Accuracy: 99.92%\n",
            "Epoch [40/50] - Train Loss: 0.0056 - Validation Loss: 0.0050 - Validation Accuracy: 99.92%\n",
            "Epoch [41/50] - Train Loss: 0.0054 - Validation Loss: 0.0046 - Validation Accuracy: 99.94%\n",
            "Epoch [42/50] - Train Loss: 0.0084 - Validation Loss: 0.0050 - Validation Accuracy: 99.92%\n",
            "Epoch [43/50] - Train Loss: 0.0070 - Validation Loss: 0.0055 - Validation Accuracy: 99.89%\n",
            "Epoch [44/50] - Train Loss: 0.0043 - Validation Loss: 0.0045 - Validation Accuracy: 99.89%\n",
            "Epoch [45/50] - Train Loss: 0.0118 - Validation Loss: 0.0085 - Validation Accuracy: 99.78%\n",
            "Epoch [46/50] - Train Loss: 0.0069 - Validation Loss: 0.0039 - Validation Accuracy: 99.92%\n",
            "Epoch [47/50] - Train Loss: 0.0057 - Validation Loss: 0.0034 - Validation Accuracy: 99.94%\n",
            "Epoch [48/50] - Train Loss: 0.0050 - Validation Loss: 0.0032 - Validation Accuracy: 99.97%\n",
            "Epoch [49/50] - Train Loss: 0.0032 - Validation Loss: 0.0025 - Validation Accuracy: 99.97%\n",
            "Epoch [50/50] - Train Loss: 0.0027 - Validation Loss: 0.0045 - Validation Accuracy: 99.89%\n",
            "Finished Training\n"
          ]
        },
        {
          "output_type": "display_data",
          "data": {
            "text/plain": [
              "<Figure size 640x480 with 1 Axes>"
            ],
            "image/png": "[encoded data removed]"
          },
          "metadata": {}
        }
      ]
    },
    {
      "cell_type": "code",
      "source": [
        "#Experiment 3 high epochs, lower lr and higher hiddensize\n",
        "num_epochs = 50\n",
        "lr = 0.005\n",
        "hiddensize = 25\n",
        "\n",
        "\n",
        "losses = train_model(num_epochs,lr,trainloader,valloader,hiddensize)\n",
        "plot_losses(losses)"
      ],
      "metadata": {
        "colab": {
          "base_uri": "https://localhost:8080/",
          "height": 1000
        },
        "id": "tTcx8CApv5k6",
        "outputId": "9329937b-0eef-4f07-bd26-a1b3384ba139"
      },
      "execution_count": null,
      "outputs": [
        {
          "output_type": "stream",
          "name": "stdout",
          "text": [
            "Epoch [1/50] - Train Loss: 0.5153 - Validation Loss: 0.4897 - Validation Accuracy: 80.09%\n",
            "Epoch [2/50] - Train Loss: 0.4839 - Validation Loss: 0.4770 - Validation Accuracy: 80.09%\n",
            "Epoch [3/50] - Train Loss: 0.4712 - Validation Loss: 0.4622 - Validation Accuracy: 80.09%\n",
            "Epoch [4/50] - Train Loss: 0.4535 - Validation Loss: 0.4371 - Validation Accuracy: 80.09%\n",
            "Epoch [5/50] - Train Loss: 0.4232 - Validation Loss: 0.4927 - Validation Accuracy: 80.09%\n",
            "Epoch [6/50] - Train Loss: 0.4622 - Validation Loss: 0.4452 - Validation Accuracy: 80.09%\n",
            "Epoch [7/50] - Train Loss: 0.4381 - Validation Loss: 0.4826 - Validation Accuracy: 80.09%\n",
            "Epoch [8/50] - Train Loss: 0.4749 - Validation Loss: 0.4667 - Validation Accuracy: 80.09%\n",
            "Epoch [9/50] - Train Loss: 0.4604 - Validation Loss: 0.4511 - Validation Accuracy: 80.12%\n",
            "Epoch [10/50] - Train Loss: 0.4419 - Validation Loss: 0.4228 - Validation Accuracy: 80.14%\n",
            "Epoch [11/50] - Train Loss: 0.3592 - Validation Loss: 0.1962 - Validation Accuracy: 93.80%\n",
            "Epoch [12/50] - Train Loss: 0.2963 - Validation Loss: 0.2398 - Validation Accuracy: 90.60%\n",
            "Epoch [13/50] - Train Loss: 0.3487 - Validation Loss: 0.4019 - Validation Accuracy: 80.23%\n",
            "Epoch [14/50] - Train Loss: 0.2506 - Validation Loss: 0.1615 - Validation Accuracy: 95.19%\n",
            "Epoch [15/50] - Train Loss: 0.1405 - Validation Loss: 0.1103 - Validation Accuracy: 96.72%\n",
            "Epoch [16/50] - Train Loss: 0.1010 - Validation Loss: 0.1039 - Validation Accuracy: 96.52%\n",
            "Epoch [17/50] - Train Loss: 0.0758 - Validation Loss: 0.0588 - Validation Accuracy: 98.33%\n",
            "Epoch [18/50] - Train Loss: 0.0597 - Validation Loss: 0.0426 - Validation Accuracy: 98.97%\n",
            "Epoch [19/50] - Train Loss: 0.0440 - Validation Loss: 0.0408 - Validation Accuracy: 98.80%\n",
            "Epoch [20/50] - Train Loss: 0.0376 - Validation Loss: 0.0263 - Validation Accuracy: 99.30%\n",
            "Epoch [21/50] - Train Loss: 0.0300 - Validation Loss: 0.0224 - Validation Accuracy: 99.44%\n",
            "Epoch [22/50] - Train Loss: 0.0277 - Validation Loss: 0.0358 - Validation Accuracy: 98.78%\n",
            "Epoch [23/50] - Train Loss: 0.0262 - Validation Loss: 0.0197 - Validation Accuracy: 99.44%\n",
            "Epoch [24/50] - Train Loss: 0.0243 - Validation Loss: 0.0185 - Validation Accuracy: 99.44%\n",
            "Epoch [25/50] - Train Loss: 0.0243 - Validation Loss: 0.0163 - Validation Accuracy: 99.61%\n",
            "Epoch [26/50] - Train Loss: 0.0213 - Validation Loss: 0.0150 - Validation Accuracy: 99.67%\n",
            "Epoch [27/50] - Train Loss: 0.0182 - Validation Loss: 0.0302 - Validation Accuracy: 99.03%\n",
            "Epoch [28/50] - Train Loss: 0.0187 - Validation Loss: 0.0317 - Validation Accuracy: 98.80%\n",
            "Epoch [29/50] - Train Loss: 0.0196 - Validation Loss: 0.0137 - Validation Accuracy: 99.69%\n",
            "Epoch [30/50] - Train Loss: 0.0172 - Validation Loss: 0.0120 - Validation Accuracy: 99.78%\n",
            "Epoch [31/50] - Train Loss: 0.0159 - Validation Loss: 0.0117 - Validation Accuracy: 99.72%\n",
            "Epoch [32/50] - Train Loss: 0.0155 - Validation Loss: 0.0111 - Validation Accuracy: 99.78%\n",
            "Epoch [33/50] - Train Loss: 0.0147 - Validation Loss: 0.0106 - Validation Accuracy: 99.81%\n",
            "Epoch [34/50] - Train Loss: 0.0143 - Validation Loss: 0.0117 - Validation Accuracy: 99.67%\n",
            "Epoch [35/50] - Train Loss: 0.0138 - Validation Loss: 0.0187 - Validation Accuracy: 99.30%\n",
            "Epoch [36/50] - Train Loss: 0.0135 - Validation Loss: 0.0107 - Validation Accuracy: 99.81%\n",
            "Epoch [37/50] - Train Loss: 0.0126 - Validation Loss: 0.0094 - Validation Accuracy: 99.81%\n",
            "Epoch [38/50] - Train Loss: 0.0133 - Validation Loss: 0.0099 - Validation Accuracy: 99.67%\n",
            "Epoch [39/50] - Train Loss: 0.0119 - Validation Loss: 0.0107 - Validation Accuracy: 99.75%\n",
            "Epoch [40/50] - Train Loss: 0.0101 - Validation Loss: 0.0155 - Validation Accuracy: 99.36%\n",
            "Epoch [41/50] - Train Loss: 0.0111 - Validation Loss: 0.0107 - Validation Accuracy: 99.75%\n",
            "Epoch [42/50] - Train Loss: 0.0105 - Validation Loss: 0.0073 - Validation Accuracy: 99.83%\n",
            "Epoch [43/50] - Train Loss: 0.0091 - Validation Loss: 0.0062 - Validation Accuracy: 99.86%\n",
            "Epoch [44/50] - Train Loss: 0.0108 - Validation Loss: 0.0077 - Validation Accuracy: 99.75%\n",
            "Epoch [45/50] - Train Loss: 0.0090 - Validation Loss: 0.0072 - Validation Accuracy: 99.78%\n",
            "Epoch [46/50] - Train Loss: 0.0075 - Validation Loss: 0.0057 - Validation Accuracy: 99.81%\n",
            "Epoch [47/50] - Train Loss: 0.0090 - Validation Loss: 0.0060 - Validation Accuracy: 99.83%\n",
            "Epoch [48/50] - Train Loss: 0.0066 - Validation Loss: 0.0049 - Validation Accuracy: 99.92%\n",
            "Epoch [49/50] - Train Loss: 0.0056 - Validation Loss: 0.0059 - Validation Accuracy: 99.86%\n",
            "Epoch [50/50] - Train Loss: 0.0073 - Validation Loss: 0.0039 - Validation Accuracy: 99.94%\n",
            "Finished Training\n"
          ]
        },
        {
          "output_type": "display_data",
          "data": {
            "text/plain": [
              "<Figure size 640x480 with 1 Axes>"
            ],
            "image/png": "[encoded data removed]"
          },
          "metadata": {}
        }
      ]
    },
    {
      "cell_type": "markdown",
      "source": [
        "We see that decreasing the learning rate reduces the amount of spikes and bouncing around of the gradient. Increasing the hidden layers does not have a super noticeable effect on the loss. Adding epochs allows the loss to reach a better steady state."
      ],
      "metadata": {
        "id": "kXWzejedzS_9"
      }
    },
    {
      "cell_type": "markdown",
      "source": [
        "### Intuition Portion"
      ],
      "metadata": {
        "id": "yYgOzxhKz0_S"
      }
    },
    {
      "cell_type": "code",
      "source": [],
      "metadata": {
        "id": "kCnoiOPt0vBV"
      },
      "execution_count": null,
      "outputs": []
    },
    {
      "cell_type": "markdown",
      "source": [
        "## Part 2: Realistic system with variable-length inputs"
      ],
      "metadata": {
        "id": "LwnDk4Af0DuS"
      }
    },
    {
      "cell_type": "markdown",
      "source": [
        "### break data into sentences"
      ],
      "metadata": {
        "id": "4p0T9-qh0GcI"
      }
    },
    {
      "cell_type": "code",
      "source": [
        "def englishsplitintosentences(text):\n",
        "    sentences = re.split(r'=', text)\n",
        "    sentence_pattern = r'[.!=] +'\n",
        "\n",
        "\n",
        "    sentences = re.split(sentence_pattern, text)\n",
        "    return sentences\n",
        "\n",
        "def spanishsplitintosentences(text):\n",
        "    sentences = re.findall(r'\\*(.*?)\\#', text)\n",
        "    return sentences\n",
        "\n",
        "def preprocesssentence(sentence):\n",
        "    sentence = sentence.lower()  # Convert to lowercase\n",
        "    sentence = ''.join(char if char.isalpha() or char.isspace() or char == '.' else ' ' for char in sentence)\n",
        "\n",
        "    return sentence"
      ],
      "metadata": {
        "id": "XK61YKSv0Bov"
      },
      "execution_count": 175,
      "outputs": []
    },
    {
      "cell_type": "code",
      "source": [
        "english_sentences2 = englishsplitintosentences(english_text)\n",
        "\n",
        "\n",
        "english_sentences2 = [preprocesssentence(sentence) for sentence in english_sentences2]"
      ],
      "metadata": {
        "id": "DK8xJnl80LDF"
      },
      "execution_count": 176,
      "outputs": []
    },
    {
      "cell_type": "code",
      "source": [
        "spanish_sentences2 = spanishsplitintosentences(spanish_text)\n",
        "\n",
        "\n",
        "spanish_sentences2 = [preprocesssentence(sentence) for sentence in spanish_sentences2]"
      ],
      "metadata": {
        "id": "1lHassFz0PQw"
      },
      "execution_count": 177,
      "outputs": []
    },
    {
      "cell_type": "code",
      "source": [
        "print(english_sentences2[10])"
      ],
      "metadata": {
        "colab": {
          "base_uri": "https://localhost:8080/"
        },
        "id": "nDGviKu60Pr_",
        "outputId": "3f4d08cb-8d6e-4e7e-eb5f-d54f16f4274b"
      },
      "execution_count": 178,
      "outputs": [
        {
          "output_type": "stream",
          "name": "stdout",
          "text": [
            "the game  s opening theme was sung by may  n \n"
          ]
        }
      ]
    },
    {
      "cell_type": "code",
      "source": [
        "print(spanish_sentences2[2])"
      ],
      "metadata": {
        "colab": {
          "base_uri": "https://localhost:8080/"
        },
        "id": "IfGfQof00SsZ",
        "outputId": "a418aa8c-6802-4b4e-d218-7b1f98bc1015"
      },
      "execution_count": 179,
      "outputs": [
        {
          "output_type": "stream",
          "name": "stdout",
          "text": [
            "es uno de los mï  s conocidos libros en espaï  ol que tratan sobre el tema junto con curso prï  ctico de esperanto ferenc szilï  gyi\n"
          ]
        }
      ]
    },
    {
      "cell_type": "code",
      "source": [
        "unique_chars2 = sorted(set(spanish_sentences2 + english_sentences))"
      ],
      "metadata": {
        "id": "wbWJGIM80U4n"
      },
      "execution_count": 180,
      "outputs": []
    },
    {
      "cell_type": "code",
      "source": [
        "chardict2 = {char: idx for idx, char in enumerate(unique_chars)}\n",
        "\n",
        "\n",
        "def texttoint(text, chardict):\n",
        "    mappedtext = []\n",
        "    for char in text:\n",
        "        mappedtext.append(chardict[char])\n",
        "    return mappedtext"
      ],
      "metadata": {
        "id": "CrDBizkX0WqO"
      },
      "execution_count": 181,
      "outputs": []
    },
    {
      "cell_type": "code",
      "source": [
        "mappedenglishsentence2 = []\n",
        "mappedspanishsentence2 = []\n",
        "\n",
        "for sentence in english_sentences2:\n",
        "\n",
        "    mappedenglishsentence2.append(texttoint(sentence, chardict2))\n",
        "\n",
        "for sentence in spanish_sentences2:\n",
        "    mappedspanishsentence2.append(texttoint(sentence, chardict2))\n",
        "\n"
      ],
      "metadata": {
        "id": "5-4JJGVc0ZGd"
      },
      "execution_count": 182,
      "outputs": []
    },
    {
      "cell_type": "code",
      "source": [
        "print(mappedenglishsentence2[10])"
      ],
      "metadata": {
        "colab": {
          "base_uri": "https://localhost:8080/"
        },
        "id": "GpFn9Bio0c2s",
        "outputId": "718d596e-b578-4dca-b4b8-3b0a53c6d2ba"
      },
      "execution_count": 183,
      "outputs": [
        {
          "output_type": "stream",
          "name": "stdout",
          "text": [
            "[22, 10, 7, 1, 9, 3, 15, 7, 1, 1, 21, 1, 17, 18, 7, 16, 11, 16, 9, 1, 22, 10, 7, 15, 7, 1, 25, 3, 21, 1, 21, 23, 16, 9, 1, 4, 27, 1, 15, 3, 27, 1, 1, 16, 1]\n"
          ]
        }
      ]
    },
    {
      "cell_type": "markdown",
      "source": [
        "#### I find the longest sentence and zero pad all the other sentences so they are the same length"
      ],
      "metadata": {
        "id": "FBFC_7Sy0fRj"
      }
    },
    {
      "cell_type": "code",
      "source": [
        "max_length = max(len(sentence) for sentence in mappedenglishsentence2)\n",
        "## I set the max length of a sentence to be 500 as this will cover the vast majority of sentences. I will then\n",
        "max_length = 500\n",
        "paddedenglish = []\n",
        "\n",
        "for int_list in mappedenglishsentence2:\n",
        "    if len(int_list) < max_length:\n",
        "        padded_list = int_list + [0] * (max_length - len(int_list))\n",
        "        paddedenglish.append(padded_list)\n",
        "    else:\n",
        "        truncated_list = int_list[:max_length]\n",
        "        paddedenglish.append(truncated_list)\n",
        "\n",
        "paddedspanish = []\n",
        "\n",
        "for int_list in mappedspanishsentence2:\n",
        "    if len(int_list) < max_length:\n",
        "        padded_list = int_list + [0] * (max_length - len(int_list))\n",
        "        paddedspanish.append(padded_list)\n",
        "    else:\n",
        "        truncated_list = int_list[:max_length]\n",
        "        paddedspanish.append(truncated_list)"
      ],
      "metadata": {
        "id": "7Bu5UJeX0i0x"
      },
      "execution_count": 184,
      "outputs": []
    },
    {
      "cell_type": "code",
      "source": [
        "print(paddedspanish[2])"
      ],
      "metadata": {
        "colab": {
          "base_uri": "https://localhost:8080/"
        },
        "id": "mpwgIVir0nAC",
        "outputId": "6d8d5631-11de-4eef-9028-a4fafad9c40b"
      },
      "execution_count": 185,
      "outputs": [
        {
          "output_type": "stream",
          "name": "stdout",
          "text": [
            "[7, 21, 1, 23, 16, 17, 1, 6, 7, 1, 14, 17, 21, 1, 15, 38, 1, 1, 21, 1, 5, 17, 16, 17, 5, 11, 6, 17, 21, 1, 14, 11, 4, 20, 17, 21, 1, 7, 16, 1, 7, 21, 18, 3, 38, 1, 1, 17, 14, 1, 19, 23, 7, 1, 22, 20, 3, 22, 3, 16, 1, 21, 17, 4, 20, 7, 1, 7, 14, 1, 22, 7, 15, 3, 1, 12, 23, 16, 22, 17, 1, 5, 17, 16, 1, 5, 23, 20, 21, 17, 1, 18, 20, 38, 1, 1, 5, 22, 11, 5, 17, 1, 6, 7, 1, 7, 21, 18, 7, 20, 3, 16, 22, 17, 1, 8, 7, 20, 7, 16, 5, 1, 21, 28, 11, 14, 38, 1, 1, 9, 27, 11, 0, 0, 0, 0, 0, 0, 0, 0, 0, 0, 0, 0, 0, 0, 0, 0, 0, 0, 0, 0, 0, 0, 0, 0, 0, 0, 0, 0, 0, 0, 0, 0, 0, 0, 0, 0, 0, 0, 0, 0, 0, 0, 0, 0, 0, 0, 0, 0, 0, 0, 0, 0, 0, 0, 0, 0, 0, 0, 0, 0, 0, 0, 0, 0, 0, 0, 0, 0, 0, 0, 0, 0, 0, 0, 0, 0, 0, 0, 0, 0, 0, 0, 0, 0, 0, 0, 0, 0, 0, 0, 0, 0, 0, 0, 0, 0, 0, 0, 0, 0, 0, 0, 0, 0, 0, 0, 0, 0, 0, 0, 0, 0, 0, 0, 0, 0, 0, 0, 0, 0, 0, 0, 0, 0, 0, 0, 0, 0, 0, 0, 0, 0, 0, 0, 0, 0, 0, 0, 0, 0, 0, 0, 0, 0, 0, 0, 0, 0, 0, 0, 0, 0, 0, 0, 0, 0, 0, 0, 0, 0, 0, 0, 0, 0, 0, 0, 0, 0, 0, 0, 0, 0, 0, 0, 0, 0, 0, 0, 0, 0, 0, 0, 0, 0, 0, 0, 0, 0, 0, 0, 0, 0, 0, 0, 0, 0, 0, 0, 0, 0, 0, 0, 0, 0, 0, 0, 0, 0, 0, 0, 0, 0, 0, 0, 0, 0, 0, 0, 0, 0, 0, 0, 0, 0, 0, 0, 0, 0, 0, 0, 0, 0, 0, 0, 0, 0, 0, 0, 0, 0, 0, 0, 0, 0, 0, 0, 0, 0, 0, 0, 0, 0, 0, 0, 0, 0, 0, 0, 0, 0, 0, 0, 0, 0, 0, 0, 0, 0, 0, 0, 0, 0, 0, 0, 0, 0, 0, 0, 0, 0, 0, 0, 0, 0, 0, 0, 0, 0, 0, 0, 0, 0, 0, 0, 0, 0, 0, 0, 0, 0, 0, 0, 0, 0, 0, 0, 0, 0, 0, 0, 0, 0, 0, 0, 0, 0, 0, 0, 0, 0, 0, 0, 0, 0, 0, 0, 0, 0, 0, 0, 0, 0, 0, 0, 0, 0, 0, 0, 0, 0, 0, 0, 0, 0, 0, 0, 0, 0, 0, 0, 0, 0, 0, 0, 0, 0, 0, 0, 0, 0, 0, 0, 0, 0, 0, 0, 0, 0]\n"
          ]
        }
      ]
    },
    {
      "cell_type": "markdown",
      "source": [
        "## Train model with 0 padded inputs"
      ],
      "metadata": {
        "id": "9XYn43i_0oki"
      }
    },
    {
      "cell_type": "code",
      "source": [
        "df3 = pd.DataFrame({'chunk': paddedenglish, 'language': 0})\n",
        "\n",
        "df4 = pd.DataFrame({'chunk': paddedspanish, 'language': 1})\n",
        "\n",
        "# Concatenate the two DataFrames\n",
        "combined_df2 = pd.concat([df3, df4], ignore_index=True)"
      ],
      "metadata": {
        "id": "YLnFWfkw8Cqo"
      },
      "execution_count": 186,
      "outputs": []
    },
    {
      "cell_type": "code",
      "source": [
        "#Split Training and Validation Data\n",
        "Training_Fraction = 0.8\n",
        "\n",
        "validation_split = 0.2\n",
        "\n",
        "# Split the DataFrame into training and validation sets\n",
        "training_df2, valid_df2 = train_test_split(combined_df2, test_size=validation_split)\n",
        "print(training_df2.head())\n",
        "\n",
        "batch_size = 32"
      ],
      "metadata": {
        "colab": {
          "base_uri": "https://localhost:8080/"
        },
        "id": "1mfFBNRb8I14",
        "outputId": "8038164c-c443-44bd-9b0d-ffb240c4e739"
      },
      "execution_count": 188,
      "outputs": [
        {
          "output_type": "stream",
          "name": "stdout",
          "text": [
            "                                                  chunk  language\n",
            "4505  [14, 3, 1, 5, 10, 11, 5, 3, 1, 6, 11, 5, 7, 1,...         1\n",
            "4261  [6, 7, 1, 6, 11, 5, 11, 7, 15, 4, 20, 7, 1, 15...         1\n",
            "2197  [18, 17, 14, 11, 21, 10, 1, 6, 7, 3, 22, 10, 1...         0\n",
            "2336  [3, 1, 21, 23, 20, 24, 7, 27, 1, 17, 8, 1, 18,...         0\n",
            "588   [0, 1, 0, 1, 11, 16, 1, 1, 1, 1, 1, 1, 1, 1, 8...         0\n"
          ]
        }
      ]
    },
    {
      "cell_type": "code",
      "source": [
        "# convert training data into PyTorch tensors\n",
        "X2 = torch.tensor(training_df['chunk'], dtype=torch.int64)\n",
        "y2 = torch.tensor(training_df['language'], dtype=torch.int64).reshape(-1, 1)\n",
        "\n",
        "# create DataLoader, then take one batch\n",
        "trainloader2 = DataLoader(list(zip(X2,y2)), shuffle=True, batch_size=2)"
      ],
      "metadata": {
        "id": "W64TAuzF8TeN"
      },
      "execution_count": 189,
      "outputs": []
    },
    {
      "cell_type": "code",
      "source": [
        "# convert validation data into PyTorch tensors\n",
        "Xval2 = torch.tensor(training_df['chunk'], dtype=torch.int64)\n",
        "yval2 = torch.tensor(training_df['language'], dtype=torch.int64).reshape(-1, 1)\n",
        "\n",
        "# create DataLoader, then take one batch\n",
        "valloader2 = DataLoader(list(zip(Xval2,yval2)), shuffle=True, batch_size=2)"
      ],
      "metadata": {
        "id": "iBYfBBz68Lj2"
      },
      "execution_count": 190,
      "outputs": []
    },
    {
      "cell_type": "code",
      "source": [],
      "metadata": {
        "id": "YVSHIwU48W02"
      },
      "execution_count": null,
      "outputs": []
    },
    {
      "cell_type": "code",
      "source": [
        "#Sentences of any length\n",
        "num_epochs = 20\n",
        "lr = 0.005\n",
        "hiddensize = 25\n",
        "\n",
        "#Set trainloader + valloader\n",
        "\n",
        "\n",
        "losses = train_model(num_epochs,lr,trainloader2,valloader2,hiddensize)\n",
        "plot_losses(losses)"
      ],
      "metadata": {
        "id": "ZGD7-_GXzpJc",
        "colab": {
          "base_uri": "https://localhost:8080/",
          "height": 829
        },
        "outputId": "5ded8341-4e5b-417d-c355-9d6a6636efd3"
      },
      "execution_count": 194,
      "outputs": [
        {
          "output_type": "stream",
          "name": "stdout",
          "text": [
            "Epoch [1/20] - Train Loss: 0.4970 - Validation Loss: 0.4855 - Validation Accuracy: 80.23%\n",
            "Epoch [2/20] - Train Loss: 0.4809 - Validation Loss: 0.4761 - Validation Accuracy: 80.23%\n",
            "Epoch [3/20] - Train Loss: 0.4724 - Validation Loss: 0.4668 - Validation Accuracy: 80.23%\n",
            "Epoch [4/20] - Train Loss: 0.4602 - Validation Loss: 0.4493 - Validation Accuracy: 80.28%\n",
            "Epoch [5/20] - Train Loss: 0.4201 - Validation Loss: 0.6295 - Validation Accuracy: 69.61%\n",
            "Epoch [6/20] - Train Loss: 0.4379 - Validation Loss: 0.4309 - Validation Accuracy: 80.31%\n",
            "Epoch [7/20] - Train Loss: 0.3480 - Validation Loss: 0.2385 - Validation Accuracy: 90.68%\n",
            "Epoch [8/20] - Train Loss: 0.4500 - Validation Loss: 0.4533 - Validation Accuracy: 80.26%\n",
            "Epoch [9/20] - Train Loss: 0.4376 - Validation Loss: 0.4443 - Validation Accuracy: 80.28%\n",
            "Epoch [10/20] - Train Loss: 0.4224 - Validation Loss: 0.3745 - Validation Accuracy: 81.84%\n",
            "Epoch [11/20] - Train Loss: 0.2430 - Validation Loss: 0.1004 - Validation Accuracy: 97.58%\n",
            "Epoch [12/20] - Train Loss: 0.3661 - Validation Loss: 0.2971 - Validation Accuracy: 84.62%\n",
            "Epoch [13/20] - Train Loss: 0.2051 - Validation Loss: 0.1054 - Validation Accuracy: 97.27%\n",
            "Epoch [14/20] - Train Loss: 0.1327 - Validation Loss: 0.1281 - Validation Accuracy: 95.66%\n",
            "Epoch [15/20] - Train Loss: 0.0843 - Validation Loss: 0.0612 - Validation Accuracy: 98.53%\n",
            "Epoch [16/20] - Train Loss: 0.0655 - Validation Loss: 0.0596 - Validation Accuracy: 98.47%\n",
            "Epoch [17/20] - Train Loss: 0.0573 - Validation Loss: 0.0400 - Validation Accuracy: 99.08%\n",
            "Epoch [18/20] - Train Loss: 0.0462 - Validation Loss: 0.0504 - Validation Accuracy: 98.67%\n",
            "Epoch [19/20] - Train Loss: 0.0413 - Validation Loss: 0.0322 - Validation Accuracy: 99.14%\n",
            "Epoch [20/20] - Train Loss: 0.0465 - Validation Loss: 0.0324 - Validation Accuracy: 99.22%\n",
            "Finished Training\n"
          ]
        },
        {
          "output_type": "display_data",
          "data": {
            "text/plain": [
              "<Figure size 640x480 with 1 Axes>"
            ],
            "image/png": "[encoded data removed]"
          },
          "metadata": {}
        }
      ]
    },
    {
      "cell_type": "markdown",
      "source": [
        "I noticed that with using set sentences rather than chunks, the training is able to reach a higher accuracy at a faster rate. However, the difference did not seem to be significantly higher. This likely shows that the model is able to determine a language mostly based on the words rather than the structure of a sentence."
      ],
      "metadata": {
        "id": "uqdNEVu29LJU"
      }
    }
  ],
  "metadata": {
    "kernelspec": {
      "display_name": "E208_F23",
      "language": "python",
      "name": "e208_f23"
    },
    "language_info": {
      "codemirror_mode": {
        "name": "ipython",
        "version": 3
      },
      "file_extension": ".py",
      "mimetype": "text/x-python",
      "name": "python",
      "nbconvert_exporter": "python",
      "pygments_lexer": "ipython3",
      "version": "3.10.12-final"
    },
    "orig_nbformat": 2,
    "colab": {
      "provenance": []
    }
  },
  "nbformat": 4,
  "nbformat_minor": 0
}